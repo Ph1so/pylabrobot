{
 "cells": [
  {
   "cell_type": "code",
   "execution_count": 1,
   "metadata": {},
   "outputs": [],
   "source": [
    "from pylabrobot.centrifuge import AgilentCentrifuge"
   ]
  },
  {
   "cell_type": "code",
   "execution_count": 2,
   "metadata": {},
   "outputs": [],
   "source": [
    "cf = AgilentCentrifuge()"
   ]
  },
  {
   "cell_type": "code",
   "execution_count": 3,
   "metadata": {},
   "outputs": [
    {
     "ename": "TypeError",
     "evalue": "latin_1_encode() argument 1 must be str, not bytearray",
     "output_type": "error",
     "traceback": [
      "\u001b[0;31m---------------------------------------------------------------------------\u001b[0m",
      "\u001b[0;31mTypeError\u001b[0m                                 Traceback (most recent call last)",
      "Cell \u001b[0;32mIn[3], line 1\u001b[0m\n\u001b[0;32m----> 1\u001b[0m \u001b[38;5;28;01mawait\u001b[39;00m cf\u001b[38;5;241m.\u001b[39msetup()\n",
      "File \u001b[0;32m~/Documents/testPy/pylabrobot/pylabrobot/centrifuge/centrifuge.py:35\u001b[0m, in \u001b[0;36mAgilentCentrifuge.setup\u001b[0;34m(self)\u001b[0m\n\u001b[1;32m     32\u001b[0m \u001b[38;5;66;03m#self.dev.ftdi_fn.ftdi_setflowctrl(0) # TODO: check \u001b[39;00m\n\u001b[1;32m     33\u001b[0m \u001b[38;5;28mself\u001b[39m\u001b[38;5;241m.\u001b[39mdev\u001b[38;5;241m.\u001b[39mftdi_fn\u001b[38;5;241m.\u001b[39mftdi_set_latency_timer(\u001b[38;5;241m16\u001b[39m)\n\u001b[0;32m---> 35\u001b[0m \u001b[38;5;28;01mawait\u001b[39;00m \u001b[38;5;28mself\u001b[39m\u001b[38;5;241m.\u001b[39minitialize()\n",
      "File \u001b[0;32m~/Documents/testPy/pylabrobot/pylabrobot/centrifuge/centrifuge.py:81\u001b[0m, in \u001b[0;36mAgilentCentrifuge.initialize\u001b[0;34m(self)\u001b[0m\n\u001b[1;32m     78\u001b[0m packet \u001b[38;5;241m=\u001b[39m \u001b[38;5;28mbytearray\u001b[39m([\u001b[38;5;241m0xaa\u001b[39m, \u001b[38;5;241m0xff\u001b[39m, \u001b[38;5;241m0x0f\u001b[39m, \u001b[38;5;241m0x0e\u001b[39m])\n\u001b[1;32m     79\u001b[0m \u001b[38;5;66;03m# packets.append(packet)\u001b[39;00m\n\u001b[1;32m     80\u001b[0m \u001b[38;5;66;03m# packets = bytearray(packets)\u001b[39;00m\n\u001b[0;32m---> 81\u001b[0m check \u001b[38;5;241m=\u001b[39m \u001b[38;5;28;01mawait\u001b[39;00m \u001b[38;5;28mself\u001b[39m\u001b[38;5;241m.\u001b[39msend(packet)\n\u001b[1;32m     82\u001b[0m \u001b[38;5;28mprint\u001b[39m(check)\n\u001b[1;32m     83\u001b[0m \u001b[38;5;28;01mif\u001b[39;00m check \u001b[38;5;241m==\u001b[39m \u001b[38;5;241m0x89\u001b[39m:\n",
      "File \u001b[0;32m~/Documents/testPy/pylabrobot/pylabrobot/centrifuge/centrifuge.py:53\u001b[0m, in \u001b[0;36mAgilentCentrifuge.send\u001b[0;34m(self, cmd, read_timeout)\u001b[0m\n\u001b[1;32m     49\u001b[0m logger\u001b[38;5;241m.\u001b[39mdebug(\u001b[38;5;124m\"\u001b[39m\u001b[38;5;124msending \u001b[39m\u001b[38;5;132;01m%s\u001b[39;00m\u001b[38;5;124m\"\u001b[39m, cmd\u001b[38;5;241m.\u001b[39mhex())\n\u001b[1;32m     51\u001b[0m \u001b[38;5;66;03m# TODO: cmd = 4 start bytes + cmd (content / unique) + 4 bytes + 5 bytes\u001b[39;00m\n\u001b[0;32m---> 53\u001b[0m w \u001b[38;5;241m=\u001b[39m \u001b[38;5;28;43mself\u001b[39;49m\u001b[38;5;241;43m.\u001b[39;49m\u001b[43mdev\u001b[49m\u001b[38;5;241;43m.\u001b[39;49m\u001b[43mwrite\u001b[49m\u001b[43m(\u001b[49m\u001b[43mcmd\u001b[49m\u001b[43m)\u001b[49m\n\u001b[1;32m     55\u001b[0m logger\u001b[38;5;241m.\u001b[39mdebug(\u001b[38;5;124m\"\u001b[39m\u001b[38;5;124mwrote \u001b[39m\u001b[38;5;132;01m%s\u001b[39;00m\u001b[38;5;124m bytes\u001b[39m\u001b[38;5;124m\"\u001b[39m, w)\n\u001b[1;32m     57\u001b[0m \u001b[38;5;28;01massert\u001b[39;00m w \u001b[38;5;241m==\u001b[39m \u001b[38;5;28mlen\u001b[39m(cmd)\n",
      "File \u001b[0;32m~/Documents/testPy/env/lib/python3.12/site-packages/pylibftdi/device.py:441\u001b[0m, in \u001b[0;36mDevice.write\u001b[0;34m(self, data)\u001b[0m\n\u001b[1;32m    438\u001b[0m     \u001b[38;5;28;01mraise\u001b[39;00m FtdiError(\u001b[38;5;124m\"\u001b[39m\u001b[38;5;124mwrite() on closed Device\u001b[39m\u001b[38;5;124m\"\u001b[39m)\n\u001b[1;32m    440\u001b[0m \u001b[38;5;28;01mif\u001b[39;00m \u001b[38;5;129;01mnot\u001b[39;00m \u001b[38;5;28misinstance\u001b[39m(data, \u001b[38;5;28mbytes\u001b[39m):\n\u001b[0;32m--> 441\u001b[0m     data \u001b[38;5;241m=\u001b[39m \u001b[38;5;28;43mself\u001b[39;49m\u001b[38;5;241;43m.\u001b[39;49m\u001b[43mencoder\u001b[49m\u001b[38;5;241;43m.\u001b[39;49m\u001b[43mencode\u001b[49m\u001b[43m(\u001b[49m\u001b[43mdata\u001b[49m\u001b[43m)\u001b[49m\n\u001b[1;32m    443\u001b[0m \u001b[38;5;28;01massert\u001b[39;00m \u001b[38;5;28misinstance\u001b[39m(data, \u001b[38;5;28mbytes\u001b[39m)\n\u001b[1;32m    445\u001b[0m \u001b[38;5;66;03m# actually write it\u001b[39;00m\n",
      "File \u001b[0;32m/Library/Frameworks/Python.framework/Versions/3.12/lib/python3.12/encodings/latin_1.py:22\u001b[0m, in \u001b[0;36mIncrementalEncoder.encode\u001b[0;34m(self, input, final)\u001b[0m\n\u001b[1;32m     21\u001b[0m \u001b[38;5;28;01mdef\u001b[39;00m \u001b[38;5;21mencode\u001b[39m(\u001b[38;5;28mself\u001b[39m, \u001b[38;5;28minput\u001b[39m, final\u001b[38;5;241m=\u001b[39m\u001b[38;5;28;01mFalse\u001b[39;00m):\n\u001b[0;32m---> 22\u001b[0m     \u001b[38;5;28;01mreturn\u001b[39;00m \u001b[43mcodecs\u001b[49m\u001b[38;5;241;43m.\u001b[39;49m\u001b[43mlatin_1_encode\u001b[49m\u001b[43m(\u001b[49m\u001b[38;5;28;43minput\u001b[39;49m\u001b[43m,\u001b[49m\u001b[38;5;28;43mself\u001b[39;49m\u001b[38;5;241;43m.\u001b[39;49m\u001b[43merrors\u001b[49m\u001b[43m)\u001b[49m[\u001b[38;5;241m0\u001b[39m]\n",
      "\u001b[0;31mTypeError\u001b[0m: latin_1_encode() argument 1 must be str, not bytearray"
     ]
    }
   ],
   "source": [
    "await cf.setup()"
   ]
  },
  {
   "cell_type": "code",
   "execution_count": null,
   "metadata": {},
   "outputs": [],
   "source": []
  }
 ],
 "metadata": {
  "kernelspec": {
   "display_name": "env",
   "language": "python",
   "name": "python3"
  },
  "language_info": {
   "codemirror_mode": {
    "name": "ipython",
    "version": 3
   },
   "file_extension": ".py",
   "mimetype": "text/x-python",
   "name": "python",
   "nbconvert_exporter": "python",
   "pygments_lexer": "ipython3",
   "version": "3.12.2"
  }
 },
 "nbformat": 4,
 "nbformat_minor": 2
}
