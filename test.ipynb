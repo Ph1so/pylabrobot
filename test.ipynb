{
 "cells": [
  {
   "cell_type": "code",
   "execution_count": 140,
   "metadata": {},
   "outputs": [],
   "source": [
    "from pylabrobot.liquid_handling import LiquidHandler\n",
    "from pylabrobot.liquid_handling.backends import ChatterBoxBackend\n",
    "from pylabrobot.visualizer.visualizer import Visualizer"
   ]
  },
  {
   "cell_type": "code",
   "execution_count": 141,
   "metadata": {},
   "outputs": [],
   "source": [
    "from pylabrobot.resources.hamilton import STARLetDeck"
   ]
  },
  {
   "cell_type": "code",
   "execution_count": 142,
   "metadata": {},
   "outputs": [],
   "source": [
    "lh = LiquidHandler(backend=ChatterBoxBackend(), deck=STARLetDeck())"
   ]
  },
  {
   "cell_type": "code",
   "execution_count": 143,
   "metadata": {},
   "outputs": [
    {
     "name": "stdout",
     "output_type": "stream",
     "text": [
      "Setting up the robot.\n",
      "Resource deck was assigned to the robot.\n",
      "Resource trash was assigned to the robot.\n",
      "Resource trash_core96 was assigned to the robot.\n"
     ]
    }
   ],
   "source": [
    "await lh.setup()"
   ]
  },
  {
   "cell_type": "markdown",
   "metadata": {},
   "source": []
  },
  {
   "cell_type": "code",
   "execution_count": 144,
   "metadata": {},
   "outputs": [
    {
     "name": "stdout",
     "output_type": "stream",
     "text": [
      "Websocket server started at http://127.0.0.1:2126\n",
      "File server started at http://127.0.0.1:1342 . Open this URL in your browser.\n"
     ]
    }
   ],
   "source": [
    "vis = Visualizer(resource=lh)\n",
    "await vis.setup()"
   ]
  },
  {
   "cell_type": "code",
   "execution_count": 145,
   "metadata": {},
   "outputs": [],
   "source": [
    "from pylabrobot.resources import (\n",
    "    TIP_CAR_480_A00,\n",
    "    PLT_CAR_L5AC_A00,\n",
    "    Cos_96_DW_1mL,\n",
    "    HTF_L\n",
    ")"
   ]
  },
  {
   "cell_type": "code",
   "execution_count": 146,
   "metadata": {},
   "outputs": [],
   "source": [
    "tip_car = TIP_CAR_480_A00(name='tip carrier')\n",
    "tip_car[0] = tip_rack1 = HTF_L(name='tips_01', with_tips=False)\n",
    "tip_car[1] = tip_rack2 = HTF_L(name='tips_02', with_tips=False)\n",
    "tip_car[2] = tip_rack3 = HTF_L(name='tips_03', with_tips=False)\n",
    "tip_car[3] = tip_rack4 = HTF_L(name='tips_04', with_tips=False)\n",
    "tip_car[4] = tip_rack5 = HTF_L(name='tips_05', with_tips=False)"
   ]
  },
  {
   "cell_type": "code",
   "execution_count": 147,
   "metadata": {},
   "outputs": [
    {
     "name": "stdout",
     "output_type": "stream",
     "text": [
      "Resource tip carrier was assigned to the robot.\n"
     ]
    }
   ],
   "source": [
    "lh.deck.assign_child_resource(tip_car, rails=15)"
   ]
  },
  {
   "cell_type": "code",
   "execution_count": 148,
   "metadata": {},
   "outputs": [],
   "source": [
    "plt_car = PLT_CAR_L5AC_A00(name='plate carrier')\n",
    "plt_car[0] = plate_1 = Cos_96_DW_1mL(name='plate_01')\n",
    "plt_car[1] = plate_2 = Cos_96_DW_1mL(name='plate_02')\n",
    "plt_car[2] = plate_3 = Cos_96_DW_1mL(name='plate_03')"
   ]
  },
  {
   "cell_type": "code",
   "execution_count": 149,
   "metadata": {},
   "outputs": [
    {
     "name": "stdout",
     "output_type": "stream",
     "text": [
      "Resource plate carrier was assigned to the robot.\n"
     ]
    }
   ],
   "source": [
    "lh.deck.assign_child_resource(plt_car, rails=8)"
   ]
  },
  {
   "cell_type": "code",
   "execution_count": 150,
   "metadata": {},
   "outputs": [],
   "source": [
    "tip_rack1.fill()"
   ]
  },
  {
   "cell_type": "code",
   "execution_count": 151,
   "metadata": {},
   "outputs": [],
   "source": [
    "tip_rack2.set_tip_state([[True]*6 + [False]*6]*8)"
   ]
  },
  {
   "cell_type": "code",
   "execution_count": 152,
   "metadata": {},
   "outputs": [],
   "source": [
    "#tip_rack4 = lh.deck.get_resource(\"tips_04\")\n",
    "tip_rack3.set_tip_state([[True]*6 + [False]*6]*8)\n",
    "tip_rack3.empty()"
   ]
  },
  {
   "cell_type": "code",
   "execution_count": 153,
   "metadata": {},
   "outputs": [
    {
     "data": {
      "text/plain": [
       "'Rail     Resource                   Type                Coordinates (mm)\\n==============================================================================================\\n(-13) ├── trash_core96               Trash               (-232.100, 110.300, 189.000)\\n      │\\n(8)   ├── plate carrier              PlateCarrier        (257.500, 063.000, 100.000)\\n      │   ├── plate_01               Plate               (275.500, 146.000, 187.150)\\n      │   ├── plate_02               Plate               (275.500, 242.000, 187.150)\\n      │   ├── plate_03               Plate               (275.500, 338.000, 187.150)\\n      │   ├── <empty>\\n      │   ├── <empty>\\n      │\\n(15)  ├── tip carrier                TipCarrier          (415.000, 063.000, 100.000)\\n      │   ├── tips_01                TipRack             (432.900, 145.800, 131.450)\\n      │   ├── tips_02                TipRack             (432.900, 241.800, 131.450)\\n      │   ├── tips_03                TipRack             (432.900, 337.800, 131.450)\\n      │   ├── tips_04                TipRack             (432.900, 433.800, 131.450)\\n      │   ├── tips_05                TipRack             (432.900, 529.800, 131.450)\\n      │\\n(32)  ├── trash                      Trash               (800.000, 190.600, 137.100)\\n'"
      ]
     },
     "execution_count": 153,
     "metadata": {},
     "output_type": "execute_result"
    }
   ],
   "source": [
    "lh.deck.summary()"
   ]
  },
  {
   "cell_type": "code",
   "execution_count": 154,
   "metadata": {},
   "outputs": [],
   "source": [
    "plate_1_liquids = [[(None, 500)]]*96\n",
    "plate_1.set_well_liquids(plate_1_liquids)"
   ]
  },
  {
   "cell_type": "code",
   "execution_count": 155,
   "metadata": {},
   "outputs": [],
   "source": [
    "plate_2_liquids = [[(None, 100)], [(None, 500)]]*(96//2)\n",
    "plate_2.set_well_liquids(plate_2_liquids)"
   ]
  },
  {
   "cell_type": "code",
   "execution_count": 156,
   "metadata": {},
   "outputs": [
    {
     "data": {
      "text/plain": [
       "(None, None)"
      ]
     },
     "execution_count": 156,
     "metadata": {},
     "output_type": "execute_result"
    }
   ],
   "source": [
    "from pylabrobot.resources import set_tip_tracking, set_volume_tracking\n",
    "set_tip_tracking(True), set_volume_tracking(True)"
   ]
  },
  {
   "cell_type": "code",
   "execution_count": 166,
   "metadata": {},
   "outputs": [
    {
     "name": "stdout",
     "output_type": "stream",
     "text": [
      "somthing happened\n",
      "tip are there in tip spots\n",
      "Picking up tips [Pickup(resource=TipSpot(name=tips_01_tipspot_0_0, location=(007.200, 068.300, -83.500), size_x=9.0, size_y=9.0, size_z=0, category=tip_spot), offset=None, tip=HamiltonTip(HIGH_VOLUME, has_filter=True, maximal_volume=1065, fitting_depth=8, total_tip_length=95.1, pickup_method=OUT_OF_RACK)), Pickup(resource=TipSpot(name=tips_01_tipspot_0_1, location=(007.200, 059.300, -83.500), size_x=9.0, size_y=9.0, size_z=0, category=tip_spot), offset=None, tip=HamiltonTip(HIGH_VOLUME, has_filter=True, maximal_volume=1065, fitting_depth=8, total_tip_length=95.1, pickup_method=OUT_OF_RACK)), Pickup(resource=TipSpot(name=tips_01_tipspot_0_2, location=(007.200, 050.300, -83.500), size_x=9.0, size_y=9.0, size_z=0, category=tip_spot), offset=None, tip=HamiltonTip(HIGH_VOLUME, has_filter=True, maximal_volume=1065, fitting_depth=8, total_tip_length=95.1, pickup_method=OUT_OF_RACK)), Pickup(resource=TipSpot(name=tips_01_tipspot_0_3, location=(007.200, 041.300, -83.500), size_x=9.0, size_y=9.0, size_z=0, category=tip_spot), offset=None, tip=HamiltonTip(HIGH_VOLUME, has_filter=True, maximal_volume=1065, fitting_depth=8, total_tip_length=95.1, pickup_method=OUT_OF_RACK)), Pickup(resource=TipSpot(name=tips_01_tipspot_0_4, location=(007.200, 032.300, -83.500), size_x=9.0, size_y=9.0, size_z=0, category=tip_spot), offset=None, tip=HamiltonTip(HIGH_VOLUME, has_filter=True, maximal_volume=1065, fitting_depth=8, total_tip_length=95.1, pickup_method=OUT_OF_RACK)), Pickup(resource=TipSpot(name=tips_01_tipspot_0_5, location=(007.200, 023.300, -83.500), size_x=9.0, size_y=9.0, size_z=0, category=tip_spot), offset=None, tip=HamiltonTip(HIGH_VOLUME, has_filter=True, maximal_volume=1065, fitting_depth=8, total_tip_length=95.1, pickup_method=OUT_OF_RACK)), Pickup(resource=TipSpot(name=tips_01_tipspot_0_6, location=(007.200, 014.300, -83.500), size_x=9.0, size_y=9.0, size_z=0, category=tip_spot), offset=None, tip=HamiltonTip(HIGH_VOLUME, has_filter=True, maximal_volume=1065, fitting_depth=8, total_tip_length=95.1, pickup_method=OUT_OF_RACK)), Pickup(resource=TipSpot(name=tips_01_tipspot_0_7, location=(007.200, 005.300, -83.500), size_x=9.0, size_y=9.0, size_z=0, category=tip_spot), offset=None, tip=HamiltonTip(HIGH_VOLUME, has_filter=True, maximal_volume=1065, fitting_depth=8, total_tip_length=95.1, pickup_method=OUT_OF_RACK))].\n"
     ]
    }
   ],
   "source": [
    "await lh.pick_up_tips(tip_rack1[\"A1:H1\"])"
   ]
  },
  {
   "cell_type": "code",
   "execution_count": 158,
   "metadata": {},
   "outputs": [
    {
     "data": {
      "text/plain": [
       "True"
      ]
     },
     "execution_count": 158,
     "metadata": {},
     "output_type": "execute_result"
    }
   ],
   "source": [
    "tip_rack2.get_item(\"A1\").tracker.has_tip"
   ]
  },
  {
   "cell_type": "code",
   "execution_count": 167,
   "metadata": {},
   "outputs": [
    {
     "name": "stdout",
     "output_type": "stream",
     "text": [
      "Dropping tips [Drop(resource=TipSpot(name=tips_01_tipspot_0_0, location=(007.200, 068.300, -83.500), size_x=9.0, size_y=9.0, size_z=0, category=tip_spot), offset=None, tip=HamiltonTip(HIGH_VOLUME, has_filter=True, maximal_volume=1065, fitting_depth=8, total_tip_length=95.1, pickup_method=OUT_OF_RACK)), Drop(resource=TipSpot(name=tips_01_tipspot_0_1, location=(007.200, 059.300, -83.500), size_x=9.0, size_y=9.0, size_z=0, category=tip_spot), offset=None, tip=HamiltonTip(HIGH_VOLUME, has_filter=True, maximal_volume=1065, fitting_depth=8, total_tip_length=95.1, pickup_method=OUT_OF_RACK)), Drop(resource=TipSpot(name=tips_01_tipspot_0_2, location=(007.200, 050.300, -83.500), size_x=9.0, size_y=9.0, size_z=0, category=tip_spot), offset=None, tip=HamiltonTip(HIGH_VOLUME, has_filter=True, maximal_volume=1065, fitting_depth=8, total_tip_length=95.1, pickup_method=OUT_OF_RACK)), Drop(resource=TipSpot(name=tips_01_tipspot_0_3, location=(007.200, 041.300, -83.500), size_x=9.0, size_y=9.0, size_z=0, category=tip_spot), offset=None, tip=HamiltonTip(HIGH_VOLUME, has_filter=True, maximal_volume=1065, fitting_depth=8, total_tip_length=95.1, pickup_method=OUT_OF_RACK)), Drop(resource=TipSpot(name=tips_01_tipspot_0_4, location=(007.200, 032.300, -83.500), size_x=9.0, size_y=9.0, size_z=0, category=tip_spot), offset=None, tip=HamiltonTip(HIGH_VOLUME, has_filter=True, maximal_volume=1065, fitting_depth=8, total_tip_length=95.1, pickup_method=OUT_OF_RACK)), Drop(resource=TipSpot(name=tips_01_tipspot_0_5, location=(007.200, 023.300, -83.500), size_x=9.0, size_y=9.0, size_z=0, category=tip_spot), offset=None, tip=HamiltonTip(HIGH_VOLUME, has_filter=True, maximal_volume=1065, fitting_depth=8, total_tip_length=95.1, pickup_method=OUT_OF_RACK)), Drop(resource=TipSpot(name=tips_01_tipspot_0_6, location=(007.200, 014.300, -83.500), size_x=9.0, size_y=9.0, size_z=0, category=tip_spot), offset=None, tip=HamiltonTip(HIGH_VOLUME, has_filter=True, maximal_volume=1065, fitting_depth=8, total_tip_length=95.1, pickup_method=OUT_OF_RACK)), Drop(resource=TipSpot(name=tips_01_tipspot_0_7, location=(007.200, 005.300, -83.500), size_x=9.0, size_y=9.0, size_z=0, category=tip_spot), offset=None, tip=HamiltonTip(HIGH_VOLUME, has_filter=True, maximal_volume=1065, fitting_depth=8, total_tip_length=95.1, pickup_method=OUT_OF_RACK))].\n"
     ]
    }
   ],
   "source": [
    "await lh.drop_tips(tip_rack1[\"A1:H1\"])"
   ]
  },
  {
   "cell_type": "code",
   "execution_count": 168,
   "metadata": {},
   "outputs": [
    {
     "ename": "NoTipError",
     "evalue": "Tip spot does not have a tip.",
     "output_type": "error",
     "traceback": [
      "\u001b[0;31m---------------------------------------------------------------------------\u001b[0m",
      "\u001b[0;31mNoTipError\u001b[0m                                Traceback (most recent call last)",
      "Cell \u001b[0;32mIn[168], line 1\u001b[0m\n\u001b[0;32m----> 1\u001b[0m \u001b[38;5;28;01mawait\u001b[39;00m lh\u001b[38;5;241m.\u001b[39mpick_up_tips(tip_rack2[\u001b[38;5;124m\"\u001b[39m\u001b[38;5;124mA1:A3\u001b[39m\u001b[38;5;124m\"\u001b[39m], use_channels\u001b[38;5;241m=\u001b[39m[\u001b[38;5;241m0\u001b[39m,\u001b[38;5;241m1\u001b[39m,\u001b[38;5;241m4\u001b[39m])\n",
      "File \u001b[0;32m~/Documents/testPy/pylabrobot/pylabrobot/machines/machine.py:25\u001b[0m, in \u001b[0;36mneed_setup_finished.<locals>.wrapper\u001b[0;34m(self, *args, **kwargs)\u001b[0m\n\u001b[1;32m     23\u001b[0m \u001b[38;5;28;01mif\u001b[39;00m \u001b[38;5;129;01mnot\u001b[39;00m \u001b[38;5;28mself\u001b[39m\u001b[38;5;241m.\u001b[39msetup_finished:\n\u001b[1;32m     24\u001b[0m   \u001b[38;5;28;01mraise\u001b[39;00m \u001b[38;5;167;01mRuntimeError\u001b[39;00m(\u001b[38;5;124m\"\u001b[39m\u001b[38;5;124mThe setup has not finished. See `setup`.\u001b[39m\u001b[38;5;124m\"\u001b[39m)\n\u001b[0;32m---> 25\u001b[0m \u001b[38;5;28;01mreturn\u001b[39;00m \u001b[38;5;28;01mawait\u001b[39;00m func(\u001b[38;5;28mself\u001b[39m, \u001b[38;5;241m*\u001b[39margs, \u001b[38;5;241m*\u001b[39m\u001b[38;5;241m*\u001b[39mkwargs)\n",
      "File \u001b[0;32m~/Documents/testPy/pylabrobot/pylabrobot/liquid_handling/liquid_handler.py:370\u001b[0m, in \u001b[0;36mpick_up_tips\u001b[0;34m(self, tip_spots, use_channels, offsets, **backend_kwargs)\u001b[0m\n\u001b[1;32m    368\u001b[0m \u001b[38;5;66;03m# queue operations on the trackers\u001b[39;00m\n\u001b[1;32m    369\u001b[0m \u001b[38;5;28;01mfor\u001b[39;00m channel, op \u001b[38;5;129;01min\u001b[39;00m \u001b[38;5;28mzip\u001b[39m(use_channels, pickups):\n\u001b[0;32m--> 370\u001b[0m   \u001b[38;5;28;01mif\u001b[39;00m does_tip_tracking() \u001b[38;5;129;01mand\u001b[39;00m \u001b[38;5;129;01mnot\u001b[39;00m op\u001b[38;5;241m.\u001b[39mresource\u001b[38;5;241m.\u001b[39mtracker\u001b[38;5;241m.\u001b[39mis_disabled:\n\u001b[1;32m    371\u001b[0m     op\u001b[38;5;241m.\u001b[39mresource\u001b[38;5;241m.\u001b[39mtracker\u001b[38;5;241m.\u001b[39mremove_tip()\n\u001b[1;32m    372\u001b[0m   \u001b[38;5;28;01mif\u001b[39;00m \u001b[38;5;129;01mnot\u001b[39;00m does_tip_tracking() \u001b[38;5;129;01mand\u001b[39;00m \u001b[38;5;28mself\u001b[39m\u001b[38;5;241m.\u001b[39mhead[channel]\u001b[38;5;241m.\u001b[39mhas_tip:\n",
      "File \u001b[0;32m~/Documents/testPy/pylabrobot/pylabrobot/resources/tip_tracker.py:97\u001b[0m, in \u001b[0;36mTipTracker.remove_tip\u001b[0;34m(self, commit)\u001b[0m\n\u001b[1;32m     95\u001b[0m   \u001b[38;5;28;01mraise\u001b[39;00m \u001b[38;5;167;01mRuntimeError\u001b[39;00m(\u001b[38;5;124m\"\u001b[39m\u001b[38;5;124mTip tracker is disabled. Call `enable()`.\u001b[39m\u001b[38;5;124m\"\u001b[39m)\n\u001b[1;32m     96\u001b[0m \u001b[38;5;28;01mif\u001b[39;00m \u001b[38;5;28mself\u001b[39m\u001b[38;5;241m.\u001b[39m_pending_tip \u001b[38;5;129;01mis\u001b[39;00m \u001b[38;5;28;01mNone\u001b[39;00m:\n\u001b[0;32m---> 97\u001b[0m   \u001b[38;5;28;01mraise\u001b[39;00m NoTipError(\u001b[38;5;124mf\u001b[39m\u001b[38;5;124m\"\u001b[39m\u001b[38;5;132;01m{\u001b[39;00m\u001b[38;5;28mself\u001b[39m\u001b[38;5;241m.\u001b[39mthing\u001b[38;5;132;01m}\u001b[39;00m\u001b[38;5;124m does not have a tip.\u001b[39m\u001b[38;5;124m\"\u001b[39m)\n\u001b[1;32m     98\u001b[0m \u001b[38;5;28mself\u001b[39m\u001b[38;5;241m.\u001b[39m_pending_tip \u001b[38;5;241m=\u001b[39m \u001b[38;5;28;01mNone\u001b[39;00m\n\u001b[1;32m    100\u001b[0m \u001b[38;5;28;01mif\u001b[39;00m commit:\n",
      "\u001b[0;31mNoTipError\u001b[0m: Tip spot does not have a tip."
     ]
    }
   ],
   "source": [
    "await lh.pick_up_tips(tip_rack2[\"A1:A3\"], use_channels=[0,1,4])"
   ]
  },
  {
   "cell_type": "code",
   "execution_count": 161,
   "metadata": {},
   "outputs": [
    {
     "name": "stdout",
     "output_type": "stream",
     "text": [
      "Dropping tips [Drop(resource=TipSpot(name=tips_02_tipspot_0_0, location=(007.200, 068.300, -83.500), size_x=9.0, size_y=9.0, size_z=0, category=tip_spot), offset=None, tip=HamiltonTip(HIGH_VOLUME, has_filter=True, maximal_volume=1065, fitting_depth=8, total_tip_length=95.1, pickup_method=OUT_OF_RACK)), Drop(resource=TipSpot(name=tips_02_tipspot_1_0, location=(016.200, 068.300, -83.500), size_x=9.0, size_y=9.0, size_z=0, category=tip_spot), offset=None, tip=HamiltonTip(HIGH_VOLUME, has_filter=True, maximal_volume=1065, fitting_depth=8, total_tip_length=95.1, pickup_method=OUT_OF_RACK)), Drop(resource=TipSpot(name=tips_02_tipspot_2_0, location=(025.200, 068.300, -83.500), size_x=9.0, size_y=9.0, size_z=0, category=tip_spot), offset=None, tip=HamiltonTip(HIGH_VOLUME, has_filter=True, maximal_volume=1065, fitting_depth=8, total_tip_length=95.1, pickup_method=OUT_OF_RACK))].\n"
     ]
    }
   ],
   "source": [
    "await lh.drop_tips(tip_rack2[\"A1:A3\"], use_channels= [0,1,4])"
   ]
  },
  {
   "cell_type": "code",
   "execution_count": 162,
   "metadata": {},
   "outputs": [
    {
     "name": "stdout",
     "output_type": "stream",
     "text": [
      "Resource plate carrier was unassigned from the robot.\n"
     ]
    }
   ],
   "source": [
    "lh.deck.unassign_child_resource(plt_car)"
   ]
  },
  {
   "cell_type": "code",
   "execution_count": null,
   "metadata": {},
   "outputs": [],
   "source": []
  }
 ],
 "metadata": {
  "kernelspec": {
   "display_name": "Python 3",
   "language": "python",
   "name": "python3"
  },
  "language_info": {
   "codemirror_mode": {
    "name": "ipython",
    "version": 3
   },
   "file_extension": ".py",
   "mimetype": "text/x-python",
   "name": "python",
   "nbconvert_exporter": "python",
   "pygments_lexer": "ipython3",
   "version": "3.12.2"
  }
 },
 "nbformat": 4,
 "nbformat_minor": 2
}
